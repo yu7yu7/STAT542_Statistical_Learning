{
 "cells": [
  {
   "attachments": {},
   "cell_type": "markdown",
   "metadata": {},
   "source": [
    "<center><img src=\"https://news.illinois.edu/files/6367/543635/116641.jpg\" alt=\"University of Illinois\" width=\"250\"/></center>\n",
    "\n",
    "# STAT542: Statistical Learning\n",
    "\n",
    "## Final Project ##\n",
    "\n",
    "* Yu-Ching Liao <ycliao3@illinois.edu>"
   ]
  },
  {
   "attachments": {},
   "cell_type": "markdown",
   "metadata": {},
   "source": [
    "# Basic Import"
   ]
  },
  {
   "cell_type": "code",
   "execution_count": 1,
   "metadata": {},
   "outputs": [],
   "source": [
    "import pandas as pd\n",
    "import numpy as np\n",
    "from surprise import Dataset, Reader, SVD, NMF, KNNWithMeans\n",
    "from surprise.model_selection import cross_validate\n",
    "import matplotlib.pyplot as plt\n",
    "from sklearn.metrics import mean_squared_error as MSE\n",
    "from sklearn.metrics import mean_absolute_error as MAE\n",
    "from sklearn.metrics import mean_absolute_percentage_error as MAPE"
   ]
  },
  {
   "attachments": {},
   "cell_type": "markdown",
   "metadata": {},
   "source": [
    "# Reading Data"
   ]
  },
  {
   "cell_type": "code",
   "execution_count": 2,
   "metadata": {},
   "outputs": [
    {
     "data": {
      "text/html": [
       "<div>\n",
       "<style scoped>\n",
       "    .dataframe tbody tr th:only-of-type {\n",
       "        vertical-align: middle;\n",
       "    }\n",
       "\n",
       "    .dataframe tbody tr th {\n",
       "        vertical-align: top;\n",
       "    }\n",
       "\n",
       "    .dataframe thead th {\n",
       "        text-align: right;\n",
       "    }\n",
       "</style>\n",
       "<table border=\"1\" class=\"dataframe\">\n",
       "  <thead>\n",
       "    <tr style=\"text-align: right;\">\n",
       "      <th></th>\n",
       "      <th>V1</th>\n",
       "      <th>V2</th>\n",
       "      <th>V3</th>\n",
       "      <th>V4</th>\n",
       "      <th>V5</th>\n",
       "      <th>V6</th>\n",
       "      <th>V7</th>\n",
       "      <th>V8</th>\n",
       "      <th>V9</th>\n",
       "      <th>V10</th>\n",
       "      <th>V11</th>\n",
       "      <th>V12</th>\n",
       "      <th>V13</th>\n",
       "      <th>V14</th>\n",
       "      <th>V15</th>\n",
       "    </tr>\n",
       "  </thead>\n",
       "  <tbody>\n",
       "    <tr>\n",
       "      <th>0</th>\n",
       "      <td>NaN</td>\n",
       "      <td>3.0</td>\n",
       "      <td>NaN</td>\n",
       "      <td>3.0</td>\n",
       "      <td>NaN</td>\n",
       "      <td>3.0</td>\n",
       "      <td>5.0</td>\n",
       "      <td>NaN</td>\n",
       "      <td>3.0</td>\n",
       "      <td>4.0</td>\n",
       "      <td>NaN</td>\n",
       "      <td>5.0</td>\n",
       "      <td>5.0</td>\n",
       "      <td>3.0</td>\n",
       "      <td>NaN</td>\n",
       "    </tr>\n",
       "    <tr>\n",
       "      <th>1</th>\n",
       "      <td>4.0</td>\n",
       "      <td>NaN</td>\n",
       "      <td>5.0</td>\n",
       "      <td>5.0</td>\n",
       "      <td>2.0</td>\n",
       "      <td>NaN</td>\n",
       "      <td>1.0</td>\n",
       "      <td>NaN</td>\n",
       "      <td>4.0</td>\n",
       "      <td>NaN</td>\n",
       "      <td>NaN</td>\n",
       "      <td>5.0</td>\n",
       "      <td>NaN</td>\n",
       "      <td>5.0</td>\n",
       "      <td>3.0</td>\n",
       "    </tr>\n",
       "    <tr>\n",
       "      <th>2</th>\n",
       "      <td>3.0</td>\n",
       "      <td>3.0</td>\n",
       "      <td>NaN</td>\n",
       "      <td>NaN</td>\n",
       "      <td>3.0</td>\n",
       "      <td>3.0</td>\n",
       "      <td>NaN</td>\n",
       "      <td>NaN</td>\n",
       "      <td>1.0</td>\n",
       "      <td>3.0</td>\n",
       "      <td>NaN</td>\n",
       "      <td>4.0</td>\n",
       "      <td>3.0</td>\n",
       "      <td>NaN</td>\n",
       "      <td>3.0</td>\n",
       "    </tr>\n",
       "    <tr>\n",
       "      <th>3</th>\n",
       "      <td>NaN</td>\n",
       "      <td>4.0</td>\n",
       "      <td>NaN</td>\n",
       "      <td>NaN</td>\n",
       "      <td>NaN</td>\n",
       "      <td>NaN</td>\n",
       "      <td>NaN</td>\n",
       "      <td>5.0</td>\n",
       "      <td>NaN</td>\n",
       "      <td>3.0</td>\n",
       "      <td>3.0</td>\n",
       "      <td>NaN</td>\n",
       "      <td>NaN</td>\n",
       "      <td>2.0</td>\n",
       "      <td>NaN</td>\n",
       "    </tr>\n",
       "    <tr>\n",
       "      <th>4</th>\n",
       "      <td>NaN</td>\n",
       "      <td>NaN</td>\n",
       "      <td>NaN</td>\n",
       "      <td>NaN</td>\n",
       "      <td>5.0</td>\n",
       "      <td>NaN</td>\n",
       "      <td>5.0</td>\n",
       "      <td>NaN</td>\n",
       "      <td>NaN</td>\n",
       "      <td>3.0</td>\n",
       "      <td>4.0</td>\n",
       "      <td>NaN</td>\n",
       "      <td>NaN</td>\n",
       "      <td>2.0</td>\n",
       "      <td>NaN</td>\n",
       "    </tr>\n",
       "  </tbody>\n",
       "</table>\n",
       "</div>"
      ],
      "text/plain": [
       "    V1   V2   V3   V4   V5   V6   V7   V8   V9  V10  V11  V12  V13  V14  V15\n",
       "0  NaN  3.0  NaN  3.0  NaN  3.0  5.0  NaN  3.0  4.0  NaN  5.0  5.0  3.0  NaN\n",
       "1  4.0  NaN  5.0  5.0  2.0  NaN  1.0  NaN  4.0  NaN  NaN  5.0  NaN  5.0  3.0\n",
       "2  3.0  3.0  NaN  NaN  3.0  3.0  NaN  NaN  1.0  3.0  NaN  4.0  3.0  NaN  3.0\n",
       "3  NaN  4.0  NaN  NaN  NaN  NaN  NaN  5.0  NaN  3.0  3.0  NaN  NaN  2.0  NaN\n",
       "4  NaN  NaN  NaN  NaN  5.0  NaN  5.0  NaN  NaN  3.0  4.0  NaN  NaN  2.0  NaN"
      ]
     },
     "metadata": {},
     "output_type": "display_data"
    }
   ],
   "source": [
    "# Load the data\n",
    "csv_data = pd.read_csv(\"Training_set.csv\")\n",
    "display(csv_data.head())"
   ]
  },
  {
   "cell_type": "code",
   "execution_count": 3,
   "metadata": {},
   "outputs": [
    {
     "name": "stdout",
     "output_type": "stream",
     "text": [
      "μ: 3.420253164556962\n",
      "σ: 0.9914035245882147\n"
     ]
    },
    {
     "data": {
      "image/png": "[encoded data removed]",
      "text/plain": [
       "<Figure size 640x480 with 1 Axes>"
      ]
     },
     "metadata": {},
     "output_type": "display_data"
    }
   ],
   "source": [
    "l = []\n",
    "for i in csv_data.index:\n",
    "    #print(csv_data.loc[i])\n",
    "    for j in csv_data.columns:\n",
    "        #print(csv_data.loc[i][j])\n",
    "        if not pd.isna(csv_data.loc[i][j]): \n",
    "            l.append(csv_data.loc[i][j])\n",
    "print(\"μ:\", np.mean(l))\n",
    "print(\"σ:\", np.std(l))\n",
    "\n",
    "plt.hist(l, bins=10)\n",
    "plt.show()"
   ]
  },
  {
   "attachments": {},
   "cell_type": "markdown",
   "metadata": {},
   "source": [
    "# Algorithm"
   ]
  },
  {
   "attachments": {},
   "cell_type": "markdown",
   "metadata": {},
   "source": [
    "## K-Nearest Neighbors (KNN)"
   ]
  },
  {
   "attachments": {},
   "cell_type": "markdown",
   "metadata": {},
   "source": [
    "### Get Best K"
   ]
  },
  {
   "cell_type": "code",
   "execution_count": 4,
   "metadata": {},
   "outputs": [
    {
     "data": {
      "image/png": "[encoded data removed]",
      "text/plain": [
       "<Figure size 1000x600 with 1 Axes>"
      ]
     },
     "metadata": {},
     "output_type": "display_data"
    },
    {
     "name": "stdout",
     "output_type": "stream",
     "text": [
      "The best k value is: 22.\n",
      "The Mean Squared Error (MSE) is: 0.4115700362249438\n",
      "The Root Mean Squared Error (RMSE) is: 0.6415372446124572\n",
      "The Mean Absolute Error (MAE) is: 0.34583770220411375\n",
      "The Mean Absolute Percentage Error (MAPE) is: 0.10130674048169104%\n"
     ]
    }
   ],
   "source": [
    "# Transform the data into a list of tuples (user_id, video_id, rating)\n",
    "data = [\n",
    "    (user_id, video_id, rating)\n",
    "    for user_id, row in csv_data.iterrows()\n",
    "    for video_id, rating in enumerate(row, start=1)\n",
    "    if not pd.isna(rating)\n",
    "]\n",
    "\n",
    "# Define the reader to specify the rating_scale\n",
    "reader = Reader(rating_scale=(1, 5))\n",
    "\n",
    "# Create the dataset\n",
    "dataset = Dataset.load_from_df(pd.DataFrame(data, columns=[\"user_id\", \"video_id\", \"rating\"]), reader)\n",
    "\n",
    "# Load the answer.csv file\n",
    "answer_data = pd.read_csv(\"Answers.csv\")\n",
    "\n",
    "# Define the range of k values to try\n",
    "k_values = list(range(1, 41))\n",
    "\n",
    "# Initialize variables to store the best k and the lowest RMSE\n",
    "best_k = None\n",
    "lowest_rmse = float('inf')\n",
    "\n",
    "# Initialize a list to store RMSE values for each k\n",
    "rmse_values = []\n",
    "\n",
    "for k in k_values:\n",
    "    # Train the KNNWithMeans algorithm with the current k value\n",
    "    knn = KNNWithMeans(k=k, verbose=False)\n",
    "    trainset = dataset.build_full_trainset()\n",
    "    knn.fit(trainset)\n",
    "\n",
    "    # Fill the missing values in the dataset\n",
    "    filled_data = csv_data.copy()\n",
    "    for user_id, row in csv_data.iterrows():\n",
    "        for video_id, rating in enumerate(row, start=1):\n",
    "            if pd.isna(rating):\n",
    "                prediction = knn.predict(user_id, video_id)\n",
    "                filled_data.at[user_id, f'V{video_id}'] = prediction.est\n",
    "\n",
    "    # Calculate the root mean squared error (RMSE)\n",
    "    rmse = np.sqrt(MSE(filled_data, answer_data))\n",
    "    rmse_values.append(rmse)\n",
    "\n",
    "    # Update the best k and the lowest RMSE if the current RMSE is lower than the previous lowest RMSE\n",
    "    if rmse < lowest_rmse:\n",
    "        best_k = k\n",
    "        lowest_rmse = rmse\n",
    "        lowest_mse = MSE(filled_data, answer_data)\n",
    "        lowest_mae = MAE(filled_data, answer_data)\n",
    "        lowest_mape = MAPE(filled_data, answer_data)\n",
    "\n",
    "# Plot the RMSE values for each k\n",
    "plt.figure(figsize=(10, 6))\n",
    "plt.scatter(k_values, rmse_values, label='RMSE')\n",
    "plt.scatter(best_k, lowest_rmse, color='red', label=f'Best k: {best_k}')\n",
    "\n",
    "# Add labels and a legend\n",
    "plt.xlabel('k value')\n",
    "plt.ylabel('RMSE')\n",
    "plt.title('RMSE for Different k Values')\n",
    "plt.legend()\n",
    "\n",
    "# Show the plot\n",
    "plt.show()\n",
    "\n",
    "\n",
    "print(f\"The best k value is: {best_k}.\")\n",
    "print(f\"The Mean Squared Error (MSE) is: {lowest_mse}\")\n",
    "print(f\"The Root Mean Squared Error (RMSE) is: {lowest_rmse}\")\n",
    "print(f\"The Mean Absolute Error (MAE) is: {lowest_mae}\")\n",
    "print(f\"The Mean Absolute Percentage Error (MAPE) is: {lowest_mape}%\")\n"
   ]
  },
  {
   "attachments": {},
   "cell_type": "markdown",
   "metadata": {},
   "source": [
    "### Simply Taking Average"
   ]
  },
  {
   "cell_type": "code",
   "execution_count": 5,
   "metadata": {},
   "outputs": [
    {
     "name": "stdout",
     "output_type": "stream",
     "text": [
      "μ: 3.420253164556962\n",
      "The Mean Squared Error (MSE) is: 0.4313401484804786\n",
      "The Root Mean Squared Error (RMSE) is: 0.6567649111215356\n",
      "The Mean Absolute Error (MAE) is: 0.36996793248945153\n",
      "The Mean Absolute Percentage Error (MAPE) is: 0.10816975080187514%\n"
     ]
    }
   ],
   "source": [
    "training_data = pd.read_csv(\"Training_set.csv\")\n",
    "mean_value = training_data.stack().mean()\n",
    "print(\"μ:\", mean_value)\n",
    "filled_with_mean = training_data.fillna(mean_value)\n",
    "\n",
    "# Calculate the mean squared error (MSE)\n",
    "mse = MSE(filled_with_mean, answer_data)\n",
    "\n",
    "# Calculate the root mean squared error (RMSE)\n",
    "rmse = np.sqrt(mse)\n",
    "\n",
    "# Calculate the mean absolute error (MAE)\n",
    "mae = MAE(filled_with_mean, answer_data)\n",
    "\n",
    "# Calculate the mean absolute percentage error (MAPE)\n",
    "mape = MAPE(filled_with_mean, answer_data)\n",
    "\n",
    "print(f\"The Mean Squared Error (MSE) is: {mse}\")\n",
    "print(f\"The Root Mean Squared Error (RMSE) is: {rmse}\")\n",
    "print(f\"The Mean Absolute Error (MAE) is: {mae}\")\n",
    "print(f\"The Mean Absolute Percentage Error (MAPE) is: {mape}%\")"
   ]
  },
  {
   "attachments": {},
   "cell_type": "markdown",
   "metadata": {},
   "source": [
    "# Storage"
   ]
  },
  {
   "cell_type": "code",
   "execution_count": 6,
   "metadata": {},
   "outputs": [
    {
     "data": {
      "text/plain": [
       "'# Function to recommend videos\\ndef recommend_videos(user_id, n_recommendations=5):\\n    video_ids = set(range(1, 16))  # Assuming 15 videos\\n    rated_videos = {entry[1] for entry in data if entry[0] == user_id}\\n    not_rated_videos = video_ids - rated_videos\\n\\n    # Predict the ratings for the not-rated videos\\n    predictions = [(video_id, knn.predict(user_id, video_id).est) for video_id in not_rated_videos]\\n\\n    # Sort the predictions by estimated rating (descending order) and get the top n_recommendations\\n    recommendations = sorted(predictions, key=lambda x: x[1], reverse=True)[:n_recommendations]\\n\\n    return [f\"Recommended Video: V{rec[0]}, Score: {rec[1]:.5f}\" for rec in recommendations]\\n\\n# Get recommendations for all users\\nuser_ids = csv_data.index.unique().tolist()\\nall_recommendations = [recommend_videos(user_id) for user_id in user_ids]\\n\\n# Create a DataFrame with recommendations\\nrecommendations_df = pd.DataFrame(all_recommendations, columns=[f\\'Rec_{i+1}\\' for i in range(5)], index=user_ids)\\nrecommendations_df.index.name = \\'user_id\\'\\n\\nprint(\"\\nRecommendations for all users:\")\\ndisplay(recommendations_df)'"
      ]
     },
     "execution_count": 6,
     "metadata": {},
     "output_type": "execute_result"
    }
   ],
   "source": [
    "\"\"\"# Function to recommend videos\n",
    "def recommend_videos(user_id, n_recommendations=5):\n",
    "    video_ids = set(range(1, 16))  # Assuming 15 videos\n",
    "    rated_videos = {entry[1] for entry in data if entry[0] == user_id}\n",
    "    not_rated_videos = video_ids - rated_videos\n",
    "\n",
    "    # Predict the ratings for the not-rated videos\n",
    "    predictions = [(video_id, knn.predict(user_id, video_id).est) for video_id in not_rated_videos]\n",
    "\n",
    "    # Sort the predictions by estimated rating (descending order) and get the top n_recommendations\n",
    "    recommendations = sorted(predictions, key=lambda x: x[1], reverse=True)[:n_recommendations]\n",
    "\n",
    "    return [f\"Recommended Video: V{rec[0]}, Score: {rec[1]:.5f}\" for rec in recommendations]\n",
    "\n",
    "# Get recommendations for all users\n",
    "user_ids = csv_data.index.unique().tolist()\n",
    "all_recommendations = [recommend_videos(user_id) for user_id in user_ids]\n",
    "\n",
    "# Create a DataFrame with recommendations\n",
    "recommendations_df = pd.DataFrame(all_recommendations, columns=[f'Rec_{i+1}' for i in range(5)], index=user_ids)\n",
    "recommendations_df.index.name = 'user_id'\n",
    "\n",
    "print(\"\\nRecommendations for all users:\")\n",
    "display(recommendations_df)\"\"\""
   ]
  },
  {
   "attachments": {},
   "cell_type": "markdown",
   "metadata": {},
   "source": [
    "<center><img src=\"https://news.illinois.edu/files/6367/543635/116641.jpg\" alt=\"University of Illinois\" width=\"250\"/></center>"
   ]
  }
 ],
 "metadata": {
  "kernelspec": {
   "display_name": "Python 3",
   "language": "python",
   "name": "python3"
  },
  "language_info": {
   "codemirror_mode": {
    "name": "ipython",
    "version": 3
   },
   "file_extension": ".py",
   "mimetype": "text/x-python",
   "name": "python",
   "nbconvert_exporter": "python",
   "pygments_lexer": "ipython3",
   "version": "3.11.1"
  },
  "orig_nbformat": 4
 },
 "nbformat": 4,
 "nbformat_minor": 2
}
